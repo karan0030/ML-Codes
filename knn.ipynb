{
  "nbformat": 4,
  "nbformat_minor": 0,
  "metadata": {
    "colab": {
      "name": "knn.ipynb",
      "provenance": [],
      "collapsed_sections": [],
      "toc_visible": true
    },
    "kernelspec": {
      "name": "python3",
      "display_name": "Python 3"
    }
  },
  "cells": [
    {
      "cell_type": "markdown",
      "metadata": {
        "id": "tCx4K3u8SHQ_"
      },
      "source": [
        "#KNN\n"
      ]
    },
    {
      "cell_type": "markdown",
      "metadata": {
        "id": "ukXxVctymVLj"
      },
      "source": [
        "#Imports"
      ]
    },
    {
      "cell_type": "code",
      "metadata": {
        "id": "WFtNbwg3SBnW"
      },
      "source": [
        "import numpy as np \n",
        "import pandas as pd \n",
        "from sklearn.model_selection import train_test_split \n",
        "from collections import Counter\n",
        "import matplotlib.pyplot as plt"
      ],
      "execution_count": 1,
      "outputs": []
    },
    {
      "cell_type": "markdown",
      "metadata": {
        "id": "CuE0uBMHmYpm"
      },
      "source": [
        "#Data Load"
      ]
    },
    {
      "cell_type": "code",
      "metadata": {
        "id": "wwXPoso9mYKO",
        "outputId": "d402f1e2-9aec-4122-a7f9-41d3f5880ef4",
        "colab": {
          "base_uri": "https://localhost:8080/",
          "height": 34
        }
      },
      "source": [
        "#data = pd.read_csv(\"Iris.csv\")  \n",
        "data =pd.read_csv(\"https://archive.ics.uci.edu/ml/machine-learning-databases/iris/iris.data\")\n",
        "\n",
        "data.head()\n",
        "data.shape"
      ],
      "execution_count": 57,
      "outputs": [
        {
          "output_type": "execute_result",
          "data": {
            "text/plain": [
              "(149, 5)"
            ]
          },
          "metadata": {
            "tags": []
          },
          "execution_count": 57
        }
      ]
    },
    {
      "cell_type": "code",
      "metadata": {
        "id": "YgNfeqB_qOUz",
        "outputId": "97fa435a-698a-4189-c998-ed1ceab49a31",
        "colab": {
          "base_uri": "https://localhost:8080/",
          "height": 34
        }
      },
      "source": [
        "X = data.to_numpy()                      \n",
        "X = X[:,1:data.shape[1]-1]\n",
        "\n",
        "Y = data.to_numpy() \n",
        "Y = Y[:,data.shape[1]-1]\n",
        "\n",
        "X_train, X_test, y_train, y_test = train_test_split( X, Y, test_size = 0.3) \n",
        "\n",
        "X.shape\n"
      ],
      "execution_count": 70,
      "outputs": [
        {
          "output_type": "execute_result",
          "data": {
            "text/plain": [
              "(149, 3)"
            ]
          },
          "metadata": {
            "tags": []
          },
          "execution_count": 70
        }
      ]
    },
    {
      "cell_type": "markdown",
      "metadata": {
        "id": "X8rJXgi0sCMt"
      },
      "source": [
        "#Euclidean Distance"
      ]
    },
    {
      "cell_type": "code",
      "metadata": {
        "id": "mONSIpwapeYD"
      },
      "source": [
        "def edist(x,y):\n",
        "  #return np.sqrt(np.sum((x-y))**2)\n",
        "  return np.linalg.norm(x-y)"
      ],
      "execution_count": 35,
      "outputs": []
    },
    {
      "cell_type": "markdown",
      "metadata": {
        "id": "bz9JQe7rrwrT"
      },
      "source": [
        "#KNN"
      ]
    },
    {
      "cell_type": "code",
      "metadata": {
        "id": "AcYWDaPVcZBr",
        "outputId": "90cc0f92-1344-4e7a-d650-fee2ab0f1354",
        "colab": {
          "base_uri": "https://localhost:8080/",
          "height": 34
        }
      },
      "source": [
        "k=5\n",
        "prediction = []   \n",
        "correct_count = 0  \n",
        "for i in range(len(X_test)): \n",
        "  distances = []\n",
        "  for j in range(len(X_train)):\n",
        "    dist= edist(X_test[i],X_train[j])\n",
        "    distances.append((X_train[j], dist, y_train[j])) \n",
        "           \n",
        "      \n",
        "  distances.sort(key=lambda x: x[1])\n",
        "  neighbors = distances[:k] \n",
        "  class_counter = Counter() \n",
        "  for neighbor in neighbors:\n",
        "    class_counter[neighbor[2]] += 1\n",
        "  prediction.append(class_counter.most_common(1)[0][0])\n",
        "  if(y_test[i] == prediction[i]):\n",
        "    correct_count = correct_count + 1\n",
        "\n",
        "acc = correct_count/float(len(X_test))  \n",
        "\n",
        "acc      \n",
        "        \n",
        "          \n"
      ],
      "execution_count": 71,
      "outputs": [
        {
          "output_type": "execute_result",
          "data": {
            "text/plain": [
              "0.9777777777777777"
            ]
          },
          "metadata": {
            "tags": []
          },
          "execution_count": 71
        }
      ]
    },
    {
      "cell_type": "markdown",
      "metadata": {
        "id": "AOBC9kpaSF75"
      },
      "source": [
        ""
      ]
    }
  ]
}